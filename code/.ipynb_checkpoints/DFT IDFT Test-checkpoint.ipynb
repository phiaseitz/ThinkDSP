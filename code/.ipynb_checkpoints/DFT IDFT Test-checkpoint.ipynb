{
 "metadata": {
  "name": "",
  "signature": "sha256:3eb0a4421630b108b4d434191d122461168d0093090b0fdbcc396819b7bfc695"
 },
 "nbformat": 3,
 "nbformat_minor": 0,
 "worksheets": [
  {
   "cells": [
    {
     "cell_type": "code",
     "collapsed": false,
     "input": [
      "from __future__ import print_function, division\n",
      "\n",
      "import thinkdsp\n",
      "import thinkplot\n",
      "import thinkstats2\n",
      "import math\n",
      "import numpy\n",
      "\n",
      "%precision 3\n",
      "%matplotlib inline\n",
      "\n",
      "PI2 = 2 * math.pi\n",
      "i = complex(0, 1)"
     ],
     "language": "python",
     "metadata": {},
     "outputs": [],
     "prompt_number": 9
    },
    {
     "cell_type": "code",
     "collapsed": false,
     "input": [
      "def dft(ys):\n",
      "    N = len(ys)\n",
      "    ts = numpy.arange(N) / N\n",
      "    freqs = numpy.arange(N)\n",
      "    args = numpy.outer(ts, freqs)\n",
      "    M = numpy.exp(i * PI2 * args)\n",
      "    amps = M.conj().transpose().dot(ys)\n",
      "    return amps"
     ],
     "language": "python",
     "metadata": {},
     "outputs": [],
     "prompt_number": 10
    },
    {
     "cell_type": "code",
     "collapsed": false,
     "input": [
      "def idft(amps):\n",
      "    N = len(amps)\n",
      "    ys = dft(amps) / N\n",
      "    return ys"
     ],
     "language": "python",
     "metadata": {},
     "outputs": [],
     "prompt_number": 14
    },
    {
     "cell_type": "code",
     "collapsed": false,
     "input": [
      "amps = numpy.array([0.6, 0.25, 0.1, 0.05])"
     ],
     "language": "python",
     "metadata": {},
     "outputs": [],
     "prompt_number": 19
    },
    {
     "cell_type": "code",
     "collapsed": false,
     "input": [
      "def approx_equal(a, b, tol=1e-10):\n",
      "    return sum(abs(a-b)) < tol"
     ],
     "language": "python",
     "metadata": {},
     "outputs": [],
     "prompt_number": 21
    },
    {
     "cell_type": "code",
     "collapsed": false,
     "input": [
      "ys = idft(amps)\n",
      "print(dft(ys))\n",
      "print(amps)\n",
      "\n",
      "print(approx_equal(amps,dft(ys)))"
     ],
     "language": "python",
     "metadata": {},
     "outputs": [
      {
       "output_type": "stream",
       "stream": "stdout",
       "text": [
        "[ 0.60 -2.082e-17j  0.05 -6.123e-18j  0.10 -2.980e-17j  0.25 +1.229e-18j]\n",
        "[ 0.6   0.25  0.1   0.05]\n",
        "False\n"
       ]
      }
     ],
     "prompt_number": 22
    },
    {
     "cell_type": "code",
     "collapsed": false,
     "input": [],
     "language": "python",
     "metadata": {},
     "outputs": []
    }
   ],
   "metadata": {}
  }
 ]
}