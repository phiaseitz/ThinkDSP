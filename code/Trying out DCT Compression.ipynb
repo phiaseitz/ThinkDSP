{
 "metadata": {
  "name": "",
  "signature": "sha256:1f9ac28b11bc297f5aed55278bcd6ea0b9f79fd575d693cb824e04a4fda58b1f"
 },
 "nbformat": 3,
 "nbformat_minor": 0,
 "worksheets": [
  {
   "cells": [
    {
     "cell_type": "code",
     "collapsed": false,
     "input": [
      "from __future__ import print_function, division\n",
      "\n",
      "import thinkdsp\n",
      "import thinkplot\n",
      "import thinkstats2\n",
      "import math\n",
      "import numpy"
     ],
     "language": "python",
     "metadata": {},
     "outputs": [],
     "prompt_number": 2
    },
    {
     "cell_type": "code",
     "collapsed": false,
     "input": [
      "wave = thinkdsp.read_wave('song.wav')\n",
      "\n",
      "\n",
      "seg = wave.segment(0,10)\n",
      "seg.normalize()\n",
      "seg.make_audio()\n",
      "seg.plot()"
     ],
     "language": "python",
     "metadata": {},
     "outputs": [
      {
       "metadata": {},
       "output_type": "display_data",
       "png": "[encoded data removed]",
       "text": [
        "<matplotlib.figure.Figure at 0x11ce7df50>"
       ]
      }
     ],
     "prompt_number": 14
    },
    {
     "cell_type": "markdown",
     "metadata": {},
     "source": [
      "Doing DCT Compression\n",
      "\n",
      "On PS03, it looks like some people did not get as far as a working implementation of DCT-based compression.  If you want to finish it for this homework, I think you will find it educational, and you can fill in some of the missing points from PS03.\n",
      "\n",
      "Split into segments\n",
      "do the DCT \n",
      "get the n lowest amplitudes, and get rid of them\n",
      "return that."
     ]
    },
    {
     "cell_type": "code",
     "collapsed": false,
     "input": [
      "def dctCompression(wave,amp_cutoff):\n",
      "    num_segments = 100\n",
      "    duration_segments = wave.duration/num_segments\n",
      "    last_segment = wave.duration - duration_segments\n",
      "    framerate = wave.framerate\n",
      "\n",
      "    compressed_segments = []\n",
      "    \n",
      "    for start_time in numpy.linspace(0,last_segment,num_segments):\n",
      "        segment = wave.segment(start_time, duration_segments)\n",
      "        segment_dct = wave.make_dct()\n",
      "        amps = segment_dct.amps\n",
      "        \n",
      "        for amp in amps:\n",
      "            if amp < amp_cutoff:\n",
      "                amp = 0\n",
      "        \n",
      "        new_dct = thinkdsp.Dct(amps,framerate)\n",
      "        compressed_segment = new_dct.make_wave()\n",
      "        compressed_segments.append(compressed_segment)\n",
      "        \n",
      "    compressed_wave = compressed_segments[0].apodize()\n",
      "    for next_seg in compressed_segments[1:]:\n",
      "        compressed_wave = compressed_wave | next_seg.apodize()\n",
      "    return compressed_wave\n",
      "        "
     ],
     "language": "python",
     "metadata": {},
     "outputs": [],
     "prompt_number": 21
    },
    {
     "cell_type": "code",
     "collapsed": false,
     "input": [
      "compressed_wave = dctCompression(seg,10)\n",
      "\n",
      "compressed_wave.plot()\n",
      "compressed_wave.make_audio()"
     ],
     "language": "python",
     "metadata": {},
     "outputs": [
      {
       "ename": "TypeError",
       "evalue": "unsupported operand type(s) for |: 'NoneType' and 'NoneType'",
       "output_type": "pyerr",
       "traceback": [
        "\u001b[0;31m---------------------------------------------------------------------------\u001b[0m\n\u001b[0;31mTypeError\u001b[0m                                 Traceback (most recent call last)",
        "\u001b[0;32m<ipython-input-22-b8c880d0472c>\u001b[0m in \u001b[0;36m<module>\u001b[0;34m()\u001b[0m\n\u001b[0;32m----> 1\u001b[0;31m \u001b[0mcompressed_wave\u001b[0m \u001b[0;34m=\u001b[0m \u001b[0mdctCompression\u001b[0m\u001b[0;34m(\u001b[0m\u001b[0mseg\u001b[0m\u001b[0;34m,\u001b[0m\u001b[0;36m10\u001b[0m\u001b[0;34m)\u001b[0m\u001b[0;34m\u001b[0m\u001b[0m\n\u001b[0m\u001b[1;32m      2\u001b[0m \u001b[0;34m\u001b[0m\u001b[0m\n\u001b[1;32m      3\u001b[0m \u001b[0mcompressed_wave\u001b[0m\u001b[0;34m.\u001b[0m\u001b[0mplot\u001b[0m\u001b[0;34m(\u001b[0m\u001b[0;34m)\u001b[0m\u001b[0;34m\u001b[0m\u001b[0m\n\u001b[1;32m      4\u001b[0m \u001b[0mcompressed_wave\u001b[0m\u001b[0;34m.\u001b[0m\u001b[0mmake_audio\u001b[0m\u001b[0;34m(\u001b[0m\u001b[0;34m)\u001b[0m\u001b[0;34m\u001b[0m\u001b[0m\n",
        "\u001b[0;32m<ipython-input-21-79b6bf3cc170>\u001b[0m in \u001b[0;36mdctCompression\u001b[0;34m(wave, amp_cutoff)\u001b[0m\n\u001b[1;32m     22\u001b[0m     \u001b[0mcompressed_wave\u001b[0m \u001b[0;34m=\u001b[0m \u001b[0mcompressed_segments\u001b[0m\u001b[0;34m[\u001b[0m\u001b[0;36m0\u001b[0m\u001b[0;34m]\u001b[0m\u001b[0;34m.\u001b[0m\u001b[0mapodize\u001b[0m\u001b[0;34m(\u001b[0m\u001b[0;34m)\u001b[0m\u001b[0;34m\u001b[0m\u001b[0m\n\u001b[1;32m     23\u001b[0m     \u001b[0;32mfor\u001b[0m \u001b[0mnext_seg\u001b[0m \u001b[0;32min\u001b[0m \u001b[0mcompressed_segments\u001b[0m\u001b[0;34m[\u001b[0m\u001b[0;36m1\u001b[0m\u001b[0;34m:\u001b[0m\u001b[0;34m]\u001b[0m\u001b[0;34m:\u001b[0m\u001b[0;34m\u001b[0m\u001b[0m\n\u001b[0;32m---> 24\u001b[0;31m         \u001b[0mcompressed_wave\u001b[0m \u001b[0;34m=\u001b[0m \u001b[0mcompressed_wave\u001b[0m \u001b[0;34m|\u001b[0m \u001b[0mnext_seg\u001b[0m\u001b[0;34m.\u001b[0m\u001b[0mapodize\u001b[0m\u001b[0;34m(\u001b[0m\u001b[0;34m)\u001b[0m\u001b[0;34m\u001b[0m\u001b[0m\n\u001b[0m\u001b[1;32m     25\u001b[0m     \u001b[0;32mreturn\u001b[0m \u001b[0mcompressed_wave\u001b[0m\u001b[0;34m\u001b[0m\u001b[0m\n\u001b[1;32m     26\u001b[0m \u001b[0;34m\u001b[0m\u001b[0m\n",
        "\u001b[0;31mTypeError\u001b[0m: unsupported operand type(s) for |: 'NoneType' and 'NoneType'"
       ]
      }
     ],
     "prompt_number": 22
    },
    {
     "cell_type": "code",
     "collapsed": false,
     "input": [],
     "language": "python",
     "metadata": {},
     "outputs": []
    }
   ],
   "metadata": {}
  }
 ]
}