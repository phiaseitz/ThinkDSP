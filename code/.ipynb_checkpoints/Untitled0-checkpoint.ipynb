{
 "metadata": {
  "name": "",
  "signature": "sha256:dde087eb77a8628e6344f26e4721de07c78ca9f6818625d5238bd073f14c1779"
 },
 "nbformat": 3,
 "nbformat_minor": 0,
 "worksheets": []
}